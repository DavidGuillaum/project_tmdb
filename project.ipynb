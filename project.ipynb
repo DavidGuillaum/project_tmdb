{
 "cells": [
  {
   "cell_type": "markdown",
   "metadata": {},
   "source": [
    "# Project: The Movie DataBase\n",
    "\n",
    "## Table of Contents\n",
    "<ul>\n",
    "<li><a href=\"#intro\">Introduction</a></li>\n",
    "<li><a href=\"#wrangling\">Data Wrangling</a></li>\n",
    "<li><a href=\"#eda\">Exploratory Data Analysis</a></li>\n",
    "<li><a href=\"#conclusions\">Conclusions</a></li>\n",
    "</ul>"
   ]
  },
  {
   "cell_type": "markdown",
   "metadata": {},
   "source": [
    "<a id='intro'></a>\n",
    "## Introduction\n",
    "\n",
    "This dataset comes from the [Kaggle](https://www.kaggle.com/datasets/tmdb/tmdb-movie-metadata) website but it's originally from [IMDB](https://datasets.imdbws.com/) (Internet Movie Database). I choose this dataset because my brothers are actually filmmakers too and it could be interesting to discover the recipe for success. The dataset contains 21 columns (features) and 10866 rows (observations or films). The original files contain JSON objects. A JSON object is a kind of dictionary. This is a list of values and their keys. But in the given file these JSON objects are transformed into simple values with \"|\" symbol to separate the values. \n",
    "After a quick analysis of the data frame and its features, it became clear that I want to create a variable representing the \"profit\". The best way is to subtract \"revenue\" from \"budget\". I could also use the variable \"popularity\" but as an economist, I prefer this way of doing it. These 2 variables are correlated. If a movie becomes more popular, the revenue will increase and so will the profit. \n",
    "I'll directly get rid of the columns \"revenue\" and \"budget\" because the inflation adjustments are more relevant.  \n",
    "__dependant variable:__ \"profit\" = \"revenue\" - \" budget\"  \n",
    "__independent variables:__ \"budget\", \"director\", \"runtime\", \"genres\", \"release_date\", \"vote_average\", \"release_year\"  \n",
    "I choose to answer the following questions:\n",
    "- Wich features are positively correlated with profit?\n",
    "- Is the \"runtime\" on \"profit\" following a normal shape (people don't like too long or too short movies)?\n",
    "- What's the best \"runtime\"?\n",
    "\n",
    "\n",
    "I'll try to answer those questions in this notebook. I hope you find it interesting and have fun reading my work."
   ]
  },
  {
   "cell_type": "code",
   "execution_count": 1,
   "metadata": {},
   "outputs": [],
   "source": [
    "import pandas as pd\n",
    "import matplotlib.pyplot as plt\n",
    "%matplotlib inline\n",
    "import seaborn as sns\n",
    "sns.set_style(\"darkgrid\")\n",
    "import numpy as np"
   ]
  },
  {
   "cell_type": "code",
   "execution_count": 2,
   "metadata": {},
   "outputs": [],
   "source": [
    "#can be usefull to see one time a whole value\n",
    "#          pd.set_option('display.max_colwidth', None)\n",
    "#I want to get rid of the scientific notation\n",
    "pd.set_option('display.float_format', lambda x: '%.5f' % x)"
   ]
  },
  {
   "cell_type": "markdown",
   "metadata": {},
   "source": [
    "<a id='wrangling'></a>\n",
    "## Data Wrangling\n",
    "\n",
    "\n",
    "### General Properties"
   ]
  },
  {
   "cell_type": "code",
   "execution_count": 3,
   "metadata": {},
   "outputs": [],
   "source": [
    "#read the file\n",
    "df = pd.read_csv(\"tmdb-movies.csv\")"
   ]
  },
  {
   "cell_type": "code",
   "execution_count": 4,
   "metadata": {},
   "outputs": [
    {
     "data": {
      "text/html": [
       "<div>\n",
       "<style scoped>\n",
       "    .dataframe tbody tr th:only-of-type {\n",
       "        vertical-align: middle;\n",
       "    }\n",
       "\n",
       "    .dataframe tbody tr th {\n",
       "        vertical-align: top;\n",
       "    }\n",
       "\n",
       "    .dataframe thead th {\n",
       "        text-align: right;\n",
       "    }\n",
       "</style>\n",
       "<table border=\"1\" class=\"dataframe\">\n",
       "  <thead>\n",
       "    <tr style=\"text-align: right;\">\n",
       "      <th></th>\n",
       "      <th>id</th>\n",
       "      <th>imdb_id</th>\n",
       "      <th>popularity</th>\n",
       "      <th>budget</th>\n",
       "      <th>revenue</th>\n",
       "      <th>original_title</th>\n",
       "      <th>cast</th>\n",
       "      <th>homepage</th>\n",
       "      <th>director</th>\n",
       "      <th>tagline</th>\n",
       "      <th>...</th>\n",
       "      <th>overview</th>\n",
       "      <th>runtime</th>\n",
       "      <th>genres</th>\n",
       "      <th>production_companies</th>\n",
       "      <th>release_date</th>\n",
       "      <th>vote_count</th>\n",
       "      <th>vote_average</th>\n",
       "      <th>release_year</th>\n",
       "      <th>budget_adj</th>\n",
       "      <th>revenue_adj</th>\n",
       "    </tr>\n",
       "  </thead>\n",
       "  <tbody>\n",
       "    <tr>\n",
       "      <th>0</th>\n",
       "      <td>135397</td>\n",
       "      <td>tt0369610</td>\n",
       "      <td>32.98576</td>\n",
       "      <td>150000000</td>\n",
       "      <td>1513528810</td>\n",
       "      <td>Jurassic World</td>\n",
       "      <td>Chris Pratt|Bryce Dallas Howard|Irrfan Khan|Vi...</td>\n",
       "      <td>http://www.jurassicworld.com/</td>\n",
       "      <td>Colin Trevorrow</td>\n",
       "      <td>The park is open.</td>\n",
       "      <td>...</td>\n",
       "      <td>Twenty-two years after the events of Jurassic ...</td>\n",
       "      <td>124</td>\n",
       "      <td>Action|Adventure|Science Fiction|Thriller</td>\n",
       "      <td>Universal Studios|Amblin Entertainment|Legenda...</td>\n",
       "      <td>6/9/15</td>\n",
       "      <td>5562</td>\n",
       "      <td>6.50000</td>\n",
       "      <td>2015</td>\n",
       "      <td>137999939.28003</td>\n",
       "      <td>1392445892.52380</td>\n",
       "    </tr>\n",
       "    <tr>\n",
       "      <th>1</th>\n",
       "      <td>76341</td>\n",
       "      <td>tt1392190</td>\n",
       "      <td>28.41994</td>\n",
       "      <td>150000000</td>\n",
       "      <td>378436354</td>\n",
       "      <td>Mad Max: Fury Road</td>\n",
       "      <td>Tom Hardy|Charlize Theron|Hugh Keays-Byrne|Nic...</td>\n",
       "      <td>http://www.madmaxmovie.com/</td>\n",
       "      <td>George Miller</td>\n",
       "      <td>What a Lovely Day.</td>\n",
       "      <td>...</td>\n",
       "      <td>An apocalyptic story set in the furthest reach...</td>\n",
       "      <td>120</td>\n",
       "      <td>Action|Adventure|Science Fiction|Thriller</td>\n",
       "      <td>Village Roadshow Pictures|Kennedy Miller Produ...</td>\n",
       "      <td>5/13/15</td>\n",
       "      <td>6185</td>\n",
       "      <td>7.10000</td>\n",
       "      <td>2015</td>\n",
       "      <td>137999939.28003</td>\n",
       "      <td>348161292.48903</td>\n",
       "    </tr>\n",
       "    <tr>\n",
       "      <th>2</th>\n",
       "      <td>262500</td>\n",
       "      <td>tt2908446</td>\n",
       "      <td>13.11251</td>\n",
       "      <td>110000000</td>\n",
       "      <td>295238201</td>\n",
       "      <td>Insurgent</td>\n",
       "      <td>Shailene Woodley|Theo James|Kate Winslet|Ansel...</td>\n",
       "      <td>http://www.thedivergentseries.movie/#insurgent</td>\n",
       "      <td>Robert Schwentke</td>\n",
       "      <td>One Choice Can Destroy You</td>\n",
       "      <td>...</td>\n",
       "      <td>Beatrice Prior must confront her inner demons ...</td>\n",
       "      <td>119</td>\n",
       "      <td>Adventure|Science Fiction|Thriller</td>\n",
       "      <td>Summit Entertainment|Mandeville Films|Red Wago...</td>\n",
       "      <td>3/18/15</td>\n",
       "      <td>2480</td>\n",
       "      <td>6.30000</td>\n",
       "      <td>2015</td>\n",
       "      <td>101199955.47202</td>\n",
       "      <td>271619025.40763</td>\n",
       "    </tr>\n",
       "    <tr>\n",
       "      <th>3</th>\n",
       "      <td>140607</td>\n",
       "      <td>tt2488496</td>\n",
       "      <td>11.17310</td>\n",
       "      <td>200000000</td>\n",
       "      <td>2068178225</td>\n",
       "      <td>Star Wars: The Force Awakens</td>\n",
       "      <td>Harrison Ford|Mark Hamill|Carrie Fisher|Adam D...</td>\n",
       "      <td>http://www.starwars.com/films/star-wars-episod...</td>\n",
       "      <td>J.J. Abrams</td>\n",
       "      <td>Every generation has a story.</td>\n",
       "      <td>...</td>\n",
       "      <td>Thirty years after defeating the Galactic Empi...</td>\n",
       "      <td>136</td>\n",
       "      <td>Action|Adventure|Science Fiction|Fantasy</td>\n",
       "      <td>Lucasfilm|Truenorth Productions|Bad Robot</td>\n",
       "      <td>12/15/15</td>\n",
       "      <td>5292</td>\n",
       "      <td>7.50000</td>\n",
       "      <td>2015</td>\n",
       "      <td>183999919.04004</td>\n",
       "      <td>1902723129.80182</td>\n",
       "    </tr>\n",
       "    <tr>\n",
       "      <th>4</th>\n",
       "      <td>168259</td>\n",
       "      <td>tt2820852</td>\n",
       "      <td>9.33501</td>\n",
       "      <td>190000000</td>\n",
       "      <td>1506249360</td>\n",
       "      <td>Furious 7</td>\n",
       "      <td>Vin Diesel|Paul Walker|Jason Statham|Michelle ...</td>\n",
       "      <td>http://www.furious7.com/</td>\n",
       "      <td>James Wan</td>\n",
       "      <td>Vengeance Hits Home</td>\n",
       "      <td>...</td>\n",
       "      <td>Deckard Shaw seeks revenge against Dominic Tor...</td>\n",
       "      <td>137</td>\n",
       "      <td>Action|Crime|Thriller</td>\n",
       "      <td>Universal Pictures|Original Film|Media Rights ...</td>\n",
       "      <td>4/1/15</td>\n",
       "      <td>2947</td>\n",
       "      <td>7.30000</td>\n",
       "      <td>2015</td>\n",
       "      <td>174799923.08803</td>\n",
       "      <td>1385748801.47052</td>\n",
       "    </tr>\n",
       "  </tbody>\n",
       "</table>\n",
       "<p>5 rows × 21 columns</p>\n",
       "</div>"
      ],
      "text/plain": [
       "       id    imdb_id  popularity     budget     revenue  \\\n",
       "0  135397  tt0369610    32.98576  150000000  1513528810   \n",
       "1   76341  tt1392190    28.41994  150000000   378436354   \n",
       "2  262500  tt2908446    13.11251  110000000   295238201   \n",
       "3  140607  tt2488496    11.17310  200000000  2068178225   \n",
       "4  168259  tt2820852     9.33501  190000000  1506249360   \n",
       "\n",
       "                 original_title  \\\n",
       "0                Jurassic World   \n",
       "1            Mad Max: Fury Road   \n",
       "2                     Insurgent   \n",
       "3  Star Wars: The Force Awakens   \n",
       "4                     Furious 7   \n",
       "\n",
       "                                                cast  \\\n",
       "0  Chris Pratt|Bryce Dallas Howard|Irrfan Khan|Vi...   \n",
       "1  Tom Hardy|Charlize Theron|Hugh Keays-Byrne|Nic...   \n",
       "2  Shailene Woodley|Theo James|Kate Winslet|Ansel...   \n",
       "3  Harrison Ford|Mark Hamill|Carrie Fisher|Adam D...   \n",
       "4  Vin Diesel|Paul Walker|Jason Statham|Michelle ...   \n",
       "\n",
       "                                            homepage          director  \\\n",
       "0                      http://www.jurassicworld.com/   Colin Trevorrow   \n",
       "1                        http://www.madmaxmovie.com/     George Miller   \n",
       "2     http://www.thedivergentseries.movie/#insurgent  Robert Schwentke   \n",
       "3  http://www.starwars.com/films/star-wars-episod...       J.J. Abrams   \n",
       "4                           http://www.furious7.com/         James Wan   \n",
       "\n",
       "                         tagline  ...  \\\n",
       "0              The park is open.  ...   \n",
       "1             What a Lovely Day.  ...   \n",
       "2     One Choice Can Destroy You  ...   \n",
       "3  Every generation has a story.  ...   \n",
       "4            Vengeance Hits Home  ...   \n",
       "\n",
       "                                            overview runtime  \\\n",
       "0  Twenty-two years after the events of Jurassic ...     124   \n",
       "1  An apocalyptic story set in the furthest reach...     120   \n",
       "2  Beatrice Prior must confront her inner demons ...     119   \n",
       "3  Thirty years after defeating the Galactic Empi...     136   \n",
       "4  Deckard Shaw seeks revenge against Dominic Tor...     137   \n",
       "\n",
       "                                      genres  \\\n",
       "0  Action|Adventure|Science Fiction|Thriller   \n",
       "1  Action|Adventure|Science Fiction|Thriller   \n",
       "2         Adventure|Science Fiction|Thriller   \n",
       "3   Action|Adventure|Science Fiction|Fantasy   \n",
       "4                      Action|Crime|Thriller   \n",
       "\n",
       "                                production_companies release_date vote_count  \\\n",
       "0  Universal Studios|Amblin Entertainment|Legenda...       6/9/15       5562   \n",
       "1  Village Roadshow Pictures|Kennedy Miller Produ...      5/13/15       6185   \n",
       "2  Summit Entertainment|Mandeville Films|Red Wago...      3/18/15       2480   \n",
       "3          Lucasfilm|Truenorth Productions|Bad Robot     12/15/15       5292   \n",
       "4  Universal Pictures|Original Film|Media Rights ...       4/1/15       2947   \n",
       "\n",
       "   vote_average  release_year      budget_adj      revenue_adj  \n",
       "0       6.50000          2015 137999939.28003 1392445892.52380  \n",
       "1       7.10000          2015 137999939.28003  348161292.48903  \n",
       "2       6.30000          2015 101199955.47202  271619025.40763  \n",
       "3       7.50000          2015 183999919.04004 1902723129.80182  \n",
       "4       7.30000          2015 174799923.08803 1385748801.47052  \n",
       "\n",
       "[5 rows x 21 columns]"
      ]
     },
     "execution_count": 4,
     "metadata": {},
     "output_type": "execute_result"
    }
   ],
   "source": [
    "df.head()"
   ]
  },
  {
   "cell_type": "code",
   "execution_count": 5,
   "metadata": {},
   "outputs": [
    {
     "data": {
      "text/plain": [
       "(10866, 21)"
      ]
     },
     "execution_count": 5,
     "metadata": {},
     "output_type": "execute_result"
    }
   ],
   "source": [
    "#usefull for the introduction\n",
    "df.shape"
   ]
  },
  {
   "cell_type": "code",
   "execution_count": 6,
   "metadata": {},
   "outputs": [],
   "source": [
    "#I know that drop useless column should be in the Data\n",
    "#cleaning part but I think it's more inteligent to do it\n",
    "#early to avoid cleaning data that you'll then drop\n",
    "df.drop(['imdb_id', 'cast', 'homepage', 'tagline',\n",
    "         'overview', 'production_companies', 'vote_count', \n",
    "         'budget', 'revenue','keywords'\n",
    "        ], axis=1, inplace=True)"
   ]
  },
  {
   "cell_type": "code",
   "execution_count": 7,
   "metadata": {},
   "outputs": [
    {
     "data": {
      "text/html": [
       "<div>\n",
       "<style scoped>\n",
       "    .dataframe tbody tr th:only-of-type {\n",
       "        vertical-align: middle;\n",
       "    }\n",
       "\n",
       "    .dataframe tbody tr th {\n",
       "        vertical-align: top;\n",
       "    }\n",
       "\n",
       "    .dataframe thead th {\n",
       "        text-align: right;\n",
       "    }\n",
       "</style>\n",
       "<table border=\"1\" class=\"dataframe\">\n",
       "  <thead>\n",
       "    <tr style=\"text-align: right;\">\n",
       "      <th></th>\n",
       "      <th>id</th>\n",
       "      <th>popularity</th>\n",
       "      <th>original_title</th>\n",
       "      <th>director</th>\n",
       "      <th>runtime</th>\n",
       "      <th>genres</th>\n",
       "      <th>release_date</th>\n",
       "      <th>vote_average</th>\n",
       "      <th>release_year</th>\n",
       "      <th>budget_adj</th>\n",
       "      <th>revenue_adj</th>\n",
       "    </tr>\n",
       "  </thead>\n",
       "  <tbody>\n",
       "    <tr>\n",
       "      <th>0</th>\n",
       "      <td>135397</td>\n",
       "      <td>32.98576</td>\n",
       "      <td>Jurassic World</td>\n",
       "      <td>Colin Trevorrow</td>\n",
       "      <td>124</td>\n",
       "      <td>Action|Adventure|Science Fiction|Thriller</td>\n",
       "      <td>6/9/15</td>\n",
       "      <td>6.50000</td>\n",
       "      <td>2015</td>\n",
       "      <td>137999939.28003</td>\n",
       "      <td>1392445892.52380</td>\n",
       "    </tr>\n",
       "    <tr>\n",
       "      <th>1</th>\n",
       "      <td>76341</td>\n",
       "      <td>28.41994</td>\n",
       "      <td>Mad Max: Fury Road</td>\n",
       "      <td>George Miller</td>\n",
       "      <td>120</td>\n",
       "      <td>Action|Adventure|Science Fiction|Thriller</td>\n",
       "      <td>5/13/15</td>\n",
       "      <td>7.10000</td>\n",
       "      <td>2015</td>\n",
       "      <td>137999939.28003</td>\n",
       "      <td>348161292.48903</td>\n",
       "    </tr>\n",
       "    <tr>\n",
       "      <th>2</th>\n",
       "      <td>262500</td>\n",
       "      <td>13.11251</td>\n",
       "      <td>Insurgent</td>\n",
       "      <td>Robert Schwentke</td>\n",
       "      <td>119</td>\n",
       "      <td>Adventure|Science Fiction|Thriller</td>\n",
       "      <td>3/18/15</td>\n",
       "      <td>6.30000</td>\n",
       "      <td>2015</td>\n",
       "      <td>101199955.47202</td>\n",
       "      <td>271619025.40763</td>\n",
       "    </tr>\n",
       "    <tr>\n",
       "      <th>3</th>\n",
       "      <td>140607</td>\n",
       "      <td>11.17310</td>\n",
       "      <td>Star Wars: The Force Awakens</td>\n",
       "      <td>J.J. Abrams</td>\n",
       "      <td>136</td>\n",
       "      <td>Action|Adventure|Science Fiction|Fantasy</td>\n",
       "      <td>12/15/15</td>\n",
       "      <td>7.50000</td>\n",
       "      <td>2015</td>\n",
       "      <td>183999919.04004</td>\n",
       "      <td>1902723129.80182</td>\n",
       "    </tr>\n",
       "    <tr>\n",
       "      <th>4</th>\n",
       "      <td>168259</td>\n",
       "      <td>9.33501</td>\n",
       "      <td>Furious 7</td>\n",
       "      <td>James Wan</td>\n",
       "      <td>137</td>\n",
       "      <td>Action|Crime|Thriller</td>\n",
       "      <td>4/1/15</td>\n",
       "      <td>7.30000</td>\n",
       "      <td>2015</td>\n",
       "      <td>174799923.08803</td>\n",
       "      <td>1385748801.47052</td>\n",
       "    </tr>\n",
       "  </tbody>\n",
       "</table>\n",
       "</div>"
      ],
      "text/plain": [
       "       id  popularity                original_title          director  \\\n",
       "0  135397    32.98576                Jurassic World   Colin Trevorrow   \n",
       "1   76341    28.41994            Mad Max: Fury Road     George Miller   \n",
       "2  262500    13.11251                     Insurgent  Robert Schwentke   \n",
       "3  140607    11.17310  Star Wars: The Force Awakens       J.J. Abrams   \n",
       "4  168259     9.33501                     Furious 7         James Wan   \n",
       "\n",
       "   runtime                                     genres release_date  \\\n",
       "0      124  Action|Adventure|Science Fiction|Thriller       6/9/15   \n",
       "1      120  Action|Adventure|Science Fiction|Thriller      5/13/15   \n",
       "2      119         Adventure|Science Fiction|Thriller      3/18/15   \n",
       "3      136   Action|Adventure|Science Fiction|Fantasy     12/15/15   \n",
       "4      137                      Action|Crime|Thriller       4/1/15   \n",
       "\n",
       "   vote_average  release_year      budget_adj      revenue_adj  \n",
       "0       6.50000          2015 137999939.28003 1392445892.52380  \n",
       "1       7.10000          2015 137999939.28003  348161292.48903  \n",
       "2       6.30000          2015 101199955.47202  271619025.40763  \n",
       "3       7.50000          2015 183999919.04004 1902723129.80182  \n",
       "4       7.30000          2015 174799923.08803 1385748801.47052  "
      ]
     },
     "execution_count": 7,
     "metadata": {},
     "output_type": "execute_result"
    }
   ],
   "source": [
    "df.head()"
   ]
  },
  {
   "cell_type": "code",
   "execution_count": 8,
   "metadata": {},
   "outputs": [
    {
     "name": "stdout",
     "output_type": "stream",
     "text": [
      "id : <class 'numpy.int64'>\n",
      "popularity : <class 'numpy.float64'>\n",
      "original_title : <class 'str'>\n",
      "director : <class 'str'>\n",
      "runtime : <class 'numpy.int64'>\n",
      "genres : <class 'str'>\n",
      "release_date : <class 'str'>\n",
      "vote_average : <class 'numpy.float64'>\n",
      "release_year : <class 'numpy.int64'>\n",
      "budget_adj : <class 'numpy.float64'>\n",
      "revenue_adj : <class 'numpy.float64'>\n"
     ]
    }
   ],
   "source": [
    "#I'll create an user defined function that show the types\n",
    "#and even if it's an object\n",
    "#x is the name of the dataframe\n",
    "def type_(x):\n",
    "    for i in x.columns:\n",
    "        typeOfValue = type(x[i][0])\n",
    "        print(i,\":\", typeOfValue)\n",
    "type_(df)"
   ]
  },
  {
   "cell_type": "code",
   "execution_count": 9,
   "metadata": {},
   "outputs": [
    {
     "name": "stdout",
     "output_type": "stream",
     "text": [
      "<class 'pandas.core.frame.DataFrame'>\n",
      "RangeIndex: 10866 entries, 0 to 10865\n",
      "Data columns (total 11 columns):\n",
      " #   Column          Non-Null Count  Dtype  \n",
      "---  ------          --------------  -----  \n",
      " 0   id              10866 non-null  int64  \n",
      " 1   popularity      10866 non-null  float64\n",
      " 2   original_title  10866 non-null  object \n",
      " 3   director        10822 non-null  object \n",
      " 4   runtime         10866 non-null  int64  \n",
      " 5   genres          10843 non-null  object \n",
      " 6   release_date    10866 non-null  object \n",
      " 7   vote_average    10866 non-null  float64\n",
      " 8   release_year    10866 non-null  int64  \n",
      " 9   budget_adj      10866 non-null  float64\n",
      " 10  revenue_adj     10866 non-null  float64\n",
      "dtypes: float64(4), int64(3), object(4)\n",
      "memory usage: 933.9+ KB\n"
     ]
    }
   ],
   "source": [
    "df.info()\n",
    "#we can see that there is missing values for \"director\"\n",
    "#and for \"genres\""
   ]
  },
  {
   "cell_type": "code",
   "execution_count": 10,
   "metadata": {},
   "outputs": [
    {
     "data": {
      "text/plain": [
       "(44, 23)"
      ]
     },
     "execution_count": 10,
     "metadata": {},
     "output_type": "execute_result"
    }
   ],
   "source": [
    "df.director.isnull().sum(), df.genres.isnull().sum()"
   ]
  },
  {
   "cell_type": "code",
   "execution_count": 11,
   "metadata": {},
   "outputs": [
    {
     "data": {
      "image/png": "[encoded data removed]",
      "text/plain": [
       "<Figure size 720x576 with 9 Axes>"
      ]
     },
     "metadata": {},
     "output_type": "display_data"
    }
   ],
   "source": [
    "df[df.director.isnull()].hist(figsize=(10,8));\n",
    "#we can see that the observations with missing data\n",
    "#have a small \"patern\" (mostyl unpopular, short, recent,\n",
    "# small budget and revenu) so it could create a biais \n",
    "#to dropp them"
   ]
  },
  {
   "cell_type": "code",
   "execution_count": 12,
   "metadata": {},
   "outputs": [
    {
     "data": {
      "image/png": "[encoded data removed]",
      "text/plain": [
       "<Figure size 720x576 with 9 Axes>"
      ]
     },
     "metadata": {},
     "output_type": "display_data"
    }
   ],
   "source": [
    "df[df.genres.isnull()].hist(figsize=(10,8));\n",
    "#we can see that the observations with missing data\n",
    "#have a small \"patern\" (mostyl unpopular, short/middle, \n",
    "#recent and small budget) so it could create a \n",
    "#biais to dropp them"
   ]
  },
  {
   "cell_type": "code",
   "execution_count": 13,
   "metadata": {},
   "outputs": [
    {
     "data": {
      "text/plain": [
       "id               0.00000\n",
       "popularity       0.00000\n",
       "original_title   0.00000\n",
       "director         0.00405\n",
       "runtime          0.00000\n",
       "genres           0.00212\n",
       "release_date     0.00000\n",
       "vote_average     0.00000\n",
       "release_year     0.00000\n",
       "budget_adj       0.00000\n",
       "revenue_adj      0.00000\n",
       "dtype: float64"
      ]
     },
     "execution_count": 13,
     "metadata": {},
     "output_type": "execute_result"
    }
   ],
   "source": [
    "a = df.isnull().sum() /df.shape[0]\n",
    "a\n",
    "#as we can see dropping the null values could won't do \n",
    "#so much damage because it represents only (in the \n",
    "#worst case) 0.7% of the data but to be sure we'll \n",
    "#replace by \"unknow\" value"
   ]
  },
  {
   "cell_type": "code",
   "execution_count": 14,
   "metadata": {},
   "outputs": [
    {
     "data": {
      "text/plain": [
       "1"
      ]
     },
     "execution_count": 14,
     "metadata": {},
     "output_type": "execute_result"
    }
   ],
   "source": [
    "#we'll now investigate for duplicates\n",
    "sum(df.duplicated())"
   ]
  },
  {
   "cell_type": "code",
   "execution_count": 15,
   "metadata": {
    "scrolled": false
   },
   "outputs": [
    {
     "data": {
      "text/html": [
       "<div>\n",
       "<style scoped>\n",
       "    .dataframe tbody tr th:only-of-type {\n",
       "        vertical-align: middle;\n",
       "    }\n",
       "\n",
       "    .dataframe tbody tr th {\n",
       "        vertical-align: top;\n",
       "    }\n",
       "\n",
       "    .dataframe thead th {\n",
       "        text-align: right;\n",
       "    }\n",
       "</style>\n",
       "<table border=\"1\" class=\"dataframe\">\n",
       "  <thead>\n",
       "    <tr style=\"text-align: right;\">\n",
       "      <th></th>\n",
       "      <th>id</th>\n",
       "      <th>popularity</th>\n",
       "      <th>original_title</th>\n",
       "      <th>director</th>\n",
       "      <th>runtime</th>\n",
       "      <th>genres</th>\n",
       "      <th>release_date</th>\n",
       "      <th>vote_average</th>\n",
       "      <th>release_year</th>\n",
       "      <th>budget_adj</th>\n",
       "      <th>revenue_adj</th>\n",
       "    </tr>\n",
       "  </thead>\n",
       "  <tbody>\n",
       "    <tr>\n",
       "      <th>2089</th>\n",
       "      <td>42194</td>\n",
       "      <td>0.59643</td>\n",
       "      <td>TEKKEN</td>\n",
       "      <td>Dwight H. Little</td>\n",
       "      <td>92</td>\n",
       "      <td>Crime|Drama|Action|Thriller|Science Fiction</td>\n",
       "      <td>3/20/10</td>\n",
       "      <td>5.00000</td>\n",
       "      <td>2010</td>\n",
       "      <td>30000000.00000</td>\n",
       "      <td>967000.00000</td>\n",
       "    </tr>\n",
       "    <tr>\n",
       "      <th>2090</th>\n",
       "      <td>42194</td>\n",
       "      <td>0.59643</td>\n",
       "      <td>TEKKEN</td>\n",
       "      <td>Dwight H. Little</td>\n",
       "      <td>92</td>\n",
       "      <td>Crime|Drama|Action|Thriller|Science Fiction</td>\n",
       "      <td>3/20/10</td>\n",
       "      <td>5.00000</td>\n",
       "      <td>2010</td>\n",
       "      <td>30000000.00000</td>\n",
       "      <td>967000.00000</td>\n",
       "    </tr>\n",
       "  </tbody>\n",
       "</table>\n",
       "</div>"
      ],
      "text/plain": [
       "         id  popularity original_title          director  runtime  \\\n",
       "2089  42194     0.59643         TEKKEN  Dwight H. Little       92   \n",
       "2090  42194     0.59643         TEKKEN  Dwight H. Little       92   \n",
       "\n",
       "                                           genres release_date  vote_average  \\\n",
       "2089  Crime|Drama|Action|Thriller|Science Fiction      3/20/10       5.00000   \n",
       "2090  Crime|Drama|Action|Thriller|Science Fiction      3/20/10       5.00000   \n",
       "\n",
       "      release_year     budget_adj  revenue_adj  \n",
       "2089          2010 30000000.00000 967000.00000  \n",
       "2090          2010 30000000.00000 967000.00000  "
      ]
     },
     "execution_count": 15,
     "metadata": {},
     "output_type": "execute_result"
    }
   ],
   "source": [
    "#diplay the duplicates\n",
    "df[df.duplicated(['id'], keep=False)]"
   ]
  },
  {
   "cell_type": "markdown",
   "metadata": {},
   "source": [
    "### Data Cleaning \n",
    "Now that I discovered some problems with the data fram, I'll try to solve it in this section"
   ]
  },
  {
   "cell_type": "code",
   "execution_count": 16,
   "metadata": {},
   "outputs": [
    {
     "data": {
      "text/plain": [
       "Index(['id', 'popularity', 'original_title', 'director', 'runtime', 'genres',\n",
       "       'release_date', 'vote_average', 'release_year', 'budget_adj',\n",
       "       'revenue_adj'],\n",
       "      dtype='object')"
      ]
     },
     "execution_count": 16,
     "metadata": {},
     "output_type": "execute_result"
    }
   ],
   "source": [
    "#I'll rename the column's name but first I'll check the \n",
    "#actual name to copy, paste and modify it\n",
    "df.columns"
   ]
  },
  {
   "cell_type": "code",
   "execution_count": 17,
   "metadata": {},
   "outputs": [],
   "source": [
    "df.rename(columns={'original_title': 'title', \n",
    "                      'release_date': 'date',\n",
    "                      'vote_average': 'vote',\n",
    "                      'release_year': 'year',\n",
    "                      'budget_adj': 'budget',\n",
    "                      'revenue_adj': 'revenue',\n",
    "                     }, inplace=True)"
   ]
  },
  {
   "cell_type": "code",
   "execution_count": 18,
   "metadata": {
    "scrolled": true
   },
   "outputs": [
    {
     "name": "stdout",
     "output_type": "stream",
     "text": [
      "id : <class 'numpy.int64'>\n",
      "popularity : <class 'numpy.float64'>\n",
      "title : <class 'str'>\n",
      "director : <class 'str'>\n",
      "runtime : <class 'numpy.int64'>\n",
      "genres : <class 'str'>\n",
      "date : <class 'pandas._libs.tslibs.timestamps.Timestamp'>\n",
      "vote : <class 'numpy.float64'>\n",
      "year : <class 'numpy.int64'>\n",
      "budget : <class 'numpy.float64'>\n",
      "revenue : <class 'numpy.float64'>\n"
     ]
    }
   ],
   "source": [
    "#I'll now resolve the problem of the type of date\n",
    "#string (month/day/year) -> datetime (year-month-day)\n",
    "df['date'] = pd.to_datetime(df['date'])\n",
    "#to control\n",
    "type_(df)"
   ]
  },
  {
   "cell_type": "code",
   "execution_count": 19,
   "metadata": {},
   "outputs": [],
   "source": [
    "#I would like replace the Nan value by the mean of\n",
    "#their feature but I cant because it's categorical value\n",
    "#I decide do replace them by \"unknown\"\n",
    "df = df.fillna(\"unknown\")"
   ]
  },
  {
   "cell_type": "code",
   "execution_count": 20,
   "metadata": {
    "scrolled": true
   },
   "outputs": [
    {
     "name": "stdout",
     "output_type": "stream",
     "text": [
      "<class 'pandas.core.frame.DataFrame'>\n",
      "RangeIndex: 10866 entries, 0 to 10865\n",
      "Data columns (total 11 columns):\n",
      " #   Column      Non-Null Count  Dtype         \n",
      "---  ------      --------------  -----         \n",
      " 0   id          10866 non-null  int64         \n",
      " 1   popularity  10866 non-null  float64       \n",
      " 2   title       10866 non-null  object        \n",
      " 3   director    10866 non-null  object        \n",
      " 4   runtime     10866 non-null  int64         \n",
      " 5   genres      10866 non-null  object        \n",
      " 6   date        10866 non-null  datetime64[ns]\n",
      " 7   vote        10866 non-null  float64       \n",
      " 8   year        10866 non-null  int64         \n",
      " 9   budget      10866 non-null  float64       \n",
      " 10  revenue     10866 non-null  float64       \n",
      "dtypes: datetime64[ns](1), float64(4), int64(3), object(3)\n",
      "memory usage: 933.9+ KB\n"
     ]
    }
   ],
   "source": [
    "#controll if it worked\n",
    "df.info()"
   ]
  },
  {
   "cell_type": "code",
   "execution_count": 21,
   "metadata": {},
   "outputs": [],
   "source": [
    "#to deal with duplicated I can only drop them\n",
    "df.drop_duplicates(inplace = True)"
   ]
  },
  {
   "cell_type": "code",
   "execution_count": 22,
   "metadata": {},
   "outputs": [
    {
     "data": {
      "text/plain": [
       "0"
      ]
     },
     "execution_count": 22,
     "metadata": {},
     "output_type": "execute_result"
    }
   ],
   "source": [
    "#control\n",
    "sum(df.duplicated())"
   ]
  },
  {
   "cell_type": "code",
   "execution_count": 23,
   "metadata": {},
   "outputs": [
    {
     "data": {
      "text/html": [
       "<div>\n",
       "<style scoped>\n",
       "    .dataframe tbody tr th:only-of-type {\n",
       "        vertical-align: middle;\n",
       "    }\n",
       "\n",
       "    .dataframe tbody tr th {\n",
       "        vertical-align: top;\n",
       "    }\n",
       "\n",
       "    .dataframe thead th {\n",
       "        text-align: right;\n",
       "    }\n",
       "</style>\n",
       "<table border=\"1\" class=\"dataframe\">\n",
       "  <thead>\n",
       "    <tr style=\"text-align: right;\">\n",
       "      <th></th>\n",
       "      <th>id</th>\n",
       "      <th>popularity</th>\n",
       "      <th>runtime</th>\n",
       "      <th>vote</th>\n",
       "      <th>year</th>\n",
       "      <th>budget</th>\n",
       "      <th>revenue</th>\n",
       "    </tr>\n",
       "  </thead>\n",
       "  <tbody>\n",
       "    <tr>\n",
       "      <th>count</th>\n",
       "      <td>10865.00000</td>\n",
       "      <td>10865.00000</td>\n",
       "      <td>10865.00000</td>\n",
       "      <td>10865.00000</td>\n",
       "      <td>10865.00000</td>\n",
       "      <td>10865.00000</td>\n",
       "      <td>10865.00000</td>\n",
       "    </tr>\n",
       "    <tr>\n",
       "      <th>mean</th>\n",
       "      <td>66066.37441</td>\n",
       "      <td>0.64645</td>\n",
       "      <td>102.07179</td>\n",
       "      <td>5.97501</td>\n",
       "      <td>2001.32186</td>\n",
       "      <td>17549894.03732</td>\n",
       "      <td>51369001.75884</td>\n",
       "    </tr>\n",
       "    <tr>\n",
       "      <th>std</th>\n",
       "      <td>92134.09197</td>\n",
       "      <td>1.00023</td>\n",
       "      <td>31.38270</td>\n",
       "      <td>0.93514</td>\n",
       "      <td>12.81326</td>\n",
       "      <td>34307526.65836</td>\n",
       "      <td>144638333.12899</td>\n",
       "    </tr>\n",
       "    <tr>\n",
       "      <th>min</th>\n",
       "      <td>5.00000</td>\n",
       "      <td>0.00007</td>\n",
       "      <td>0.00000</td>\n",
       "      <td>1.50000</td>\n",
       "      <td>1960.00000</td>\n",
       "      <td>0.00000</td>\n",
       "      <td>0.00000</td>\n",
       "    </tr>\n",
       "    <tr>\n",
       "      <th>25%</th>\n",
       "      <td>10596.00000</td>\n",
       "      <td>0.20758</td>\n",
       "      <td>90.00000</td>\n",
       "      <td>5.40000</td>\n",
       "      <td>1995.00000</td>\n",
       "      <td>0.00000</td>\n",
       "      <td>0.00000</td>\n",
       "    </tr>\n",
       "    <tr>\n",
       "      <th>50%</th>\n",
       "      <td>20662.00000</td>\n",
       "      <td>0.38383</td>\n",
       "      <td>99.00000</td>\n",
       "      <td>6.00000</td>\n",
       "      <td>2006.00000</td>\n",
       "      <td>0.00000</td>\n",
       "      <td>0.00000</td>\n",
       "    </tr>\n",
       "    <tr>\n",
       "      <th>75%</th>\n",
       "      <td>75612.00000</td>\n",
       "      <td>0.71386</td>\n",
       "      <td>111.00000</td>\n",
       "      <td>6.60000</td>\n",
       "      <td>2011.00000</td>\n",
       "      <td>20853251.08440</td>\n",
       "      <td>33701729.00946</td>\n",
       "    </tr>\n",
       "    <tr>\n",
       "      <th>max</th>\n",
       "      <td>417859.00000</td>\n",
       "      <td>32.98576</td>\n",
       "      <td>900.00000</td>\n",
       "      <td>9.20000</td>\n",
       "      <td>2015.00000</td>\n",
       "      <td>425000000.00000</td>\n",
       "      <td>2827123750.41189</td>\n",
       "    </tr>\n",
       "  </tbody>\n",
       "</table>\n",
       "</div>"
      ],
      "text/plain": [
       "                id  popularity     runtime        vote        year  \\\n",
       "count  10865.00000 10865.00000 10865.00000 10865.00000 10865.00000   \n",
       "mean   66066.37441     0.64645   102.07179     5.97501  2001.32186   \n",
       "std    92134.09197     1.00023    31.38270     0.93514    12.81326   \n",
       "min        5.00000     0.00007     0.00000     1.50000  1960.00000   \n",
       "25%    10596.00000     0.20758    90.00000     5.40000  1995.00000   \n",
       "50%    20662.00000     0.38383    99.00000     6.00000  2006.00000   \n",
       "75%    75612.00000     0.71386   111.00000     6.60000  2011.00000   \n",
       "max   417859.00000    32.98576   900.00000     9.20000  2015.00000   \n",
       "\n",
       "               budget          revenue  \n",
       "count     10865.00000      10865.00000  \n",
       "mean   17549894.03732   51369001.75884  \n",
       "std    34307526.65836  144638333.12899  \n",
       "min           0.00000          0.00000  \n",
       "25%           0.00000          0.00000  \n",
       "50%           0.00000          0.00000  \n",
       "75%    20853251.08440   33701729.00946  \n",
       "max   425000000.00000 2827123750.41189  "
      ]
     },
     "execution_count": 23,
     "metadata": {},
     "output_type": "execute_result"
    }
   ],
   "source": [
    "df.describe()\n",
    "#we can see that some value are 0 and it's not possible\n",
    "#to have 0 runtime 0 budget or 0 revenue\n",
    "#it's clearly Nan values\n",
    "#we'll further investigate this"
   ]
  },
  {
   "cell_type": "code",
   "execution_count": 24,
   "metadata": {},
   "outputs": [
    {
     "data": {
      "text/html": [
       "<div>\n",
       "<style scoped>\n",
       "    .dataframe tbody tr th:only-of-type {\n",
       "        vertical-align: middle;\n",
       "    }\n",
       "\n",
       "    .dataframe tbody tr th {\n",
       "        vertical-align: top;\n",
       "    }\n",
       "\n",
       "    .dataframe thead th {\n",
       "        text-align: right;\n",
       "    }\n",
       "</style>\n",
       "<table border=\"1\" class=\"dataframe\">\n",
       "  <thead>\n",
       "    <tr style=\"text-align: right;\">\n",
       "      <th></th>\n",
       "      <th>id</th>\n",
       "      <th>popularity</th>\n",
       "      <th>runtime</th>\n",
       "      <th>vote</th>\n",
       "      <th>year</th>\n",
       "      <th>budget</th>\n",
       "      <th>revenue</th>\n",
       "    </tr>\n",
       "  </thead>\n",
       "  <tbody>\n",
       "    <tr>\n",
       "      <th>count</th>\n",
       "      <td>10865.00000</td>\n",
       "      <td>10865.00000</td>\n",
       "      <td>10865.00000</td>\n",
       "      <td>10865.00000</td>\n",
       "      <td>10865.00000</td>\n",
       "      <td>10865.00000</td>\n",
       "      <td>10865.00000</td>\n",
       "    </tr>\n",
       "    <tr>\n",
       "      <th>mean</th>\n",
       "      <td>66066.37441</td>\n",
       "      <td>646445.55490</td>\n",
       "      <td>102.07179</td>\n",
       "      <td>5.97501</td>\n",
       "      <td>2001.32186</td>\n",
       "      <td>17549894.03732</td>\n",
       "      <td>51369001.75884</td>\n",
       "    </tr>\n",
       "    <tr>\n",
       "      <th>std</th>\n",
       "      <td>92134.09197</td>\n",
       "      <td>1000230.85023</td>\n",
       "      <td>31.38270</td>\n",
       "      <td>0.93514</td>\n",
       "      <td>12.81326</td>\n",
       "      <td>34307526.65836</td>\n",
       "      <td>144638333.12899</td>\n",
       "    </tr>\n",
       "    <tr>\n",
       "      <th>min</th>\n",
       "      <td>5.00000</td>\n",
       "      <td>65.00000</td>\n",
       "      <td>0.00000</td>\n",
       "      <td>1.50000</td>\n",
       "      <td>1960.00000</td>\n",
       "      <td>0.00000</td>\n",
       "      <td>0.00000</td>\n",
       "    </tr>\n",
       "    <tr>\n",
       "      <th>25%</th>\n",
       "      <td>10596.00000</td>\n",
       "      <td>207575.00000</td>\n",
       "      <td>90.00000</td>\n",
       "      <td>5.40000</td>\n",
       "      <td>1995.00000</td>\n",
       "      <td>0.00000</td>\n",
       "      <td>0.00000</td>\n",
       "    </tr>\n",
       "    <tr>\n",
       "      <th>50%</th>\n",
       "      <td>20662.00000</td>\n",
       "      <td>383831.00000</td>\n",
       "      <td>99.00000</td>\n",
       "      <td>6.00000</td>\n",
       "      <td>2006.00000</td>\n",
       "      <td>0.00000</td>\n",
       "      <td>0.00000</td>\n",
       "    </tr>\n",
       "    <tr>\n",
       "      <th>75%</th>\n",
       "      <td>75612.00000</td>\n",
       "      <td>713857.00000</td>\n",
       "      <td>111.00000</td>\n",
       "      <td>6.60000</td>\n",
       "      <td>2011.00000</td>\n",
       "      <td>20853251.08440</td>\n",
       "      <td>33701729.00946</td>\n",
       "    </tr>\n",
       "    <tr>\n",
       "      <th>max</th>\n",
       "      <td>417859.00000</td>\n",
       "      <td>32985763.00000</td>\n",
       "      <td>900.00000</td>\n",
       "      <td>9.20000</td>\n",
       "      <td>2015.00000</td>\n",
       "      <td>425000000.00000</td>\n",
       "      <td>2827123750.41189</td>\n",
       "    </tr>\n",
       "  </tbody>\n",
       "</table>\n",
       "</div>"
      ],
      "text/plain": [
       "                id     popularity     runtime        vote        year  \\\n",
       "count  10865.00000    10865.00000 10865.00000 10865.00000 10865.00000   \n",
       "mean   66066.37441   646445.55490   102.07179     5.97501  2001.32186   \n",
       "std    92134.09197  1000230.85023    31.38270     0.93514    12.81326   \n",
       "min        5.00000       65.00000     0.00000     1.50000  1960.00000   \n",
       "25%    10596.00000   207575.00000    90.00000     5.40000  1995.00000   \n",
       "50%    20662.00000   383831.00000    99.00000     6.00000  2006.00000   \n",
       "75%    75612.00000   713857.00000   111.00000     6.60000  2011.00000   \n",
       "max   417859.00000 32985763.00000   900.00000     9.20000  2015.00000   \n",
       "\n",
       "               budget          revenue  \n",
       "count     10865.00000      10865.00000  \n",
       "mean   17549894.03732   51369001.75884  \n",
       "std    34307526.65836  144638333.12899  \n",
       "min           0.00000          0.00000  \n",
       "25%           0.00000          0.00000  \n",
       "50%           0.00000          0.00000  \n",
       "75%    20853251.08440   33701729.00946  \n",
       "max   425000000.00000 2827123750.41189  "
      ]
     },
     "execution_count": 24,
     "metadata": {},
     "output_type": "execute_result"
    }
   ],
   "source": [
    "#first I don't know why but it's in decimal let's modify that\n",
    "df[\"popularity\"] = df[\"popularity\"] * 1000000\n",
    "df.describe()"
   ]
  },
  {
   "cell_type": "code",
   "execution_count": 25,
   "metadata": {},
   "outputs": [
    {
     "data": {
      "text/plain": [
       "id            6016\n",
       "popularity    6016\n",
       "title         6016\n",
       "director      6016\n",
       "runtime       6016\n",
       "genres        6016\n",
       "date          6016\n",
       "vote          6016\n",
       "year          6016\n",
       "budget        6016\n",
       "revenue       6016\n",
       "dtype: int64"
      ]
     },
     "execution_count": 25,
     "metadata": {},
     "output_type": "execute_result"
    }
   ],
   "source": [
    "dfr = df.query(\"runtime < 1\" and \"budget <1\" and \"revenue <1\")\n",
    "dfr.count()\n",
    "#there is 6016 \"dirty\" values"
   ]
  },
  {
   "cell_type": "code",
   "execution_count": 26,
   "metadata": {},
   "outputs": [
    {
     "name": "stdout",
     "output_type": "stream",
     "text": [
      "0.5537045559134837\n"
     ]
    }
   ],
   "source": [
    "#that's a lot of values\n",
    "print(dfr.count()[1]/df.shape[0])"
   ]
  },
  {
   "cell_type": "code",
   "execution_count": null,
   "metadata": {},
   "outputs": [],
   "source": [
    "#I'll replace it by the mean\n",
    "mean1 = df[\"runtime\"].mean()\n",
    "df.loc[df[\"runtime\"] < 1, \"runtime\"] = mean1\n",
    "mean1 = df[\"budget\"].mean()\n",
    "df.loc[df[\"budget\"] < 1, \"budget\"] = mean1\n",
    "mean1 = df[\"revenue\"].mean()\n",
    "df.loc[df[\"revenue\"] < 1, \"revenue\"] = mean1"
   ]
  },
  {
   "cell_type": "code",
   "execution_count": null,
   "metadata": {
    "scrolled": true
   },
   "outputs": [],
   "source": [
    "#control\n",
    "dfr = df.query(\"runtime < 1\" and \"budget <1\" and \"revenue <1\")\n",
    "dfr.count()"
   ]
  },
  {
   "cell_type": "code",
   "execution_count": null,
   "metadata": {},
   "outputs": [],
   "source": [
    "df.describe()"
   ]
  },
  {
   "cell_type": "code",
   "execution_count": null,
   "metadata": {},
   "outputs": [],
   "source": [
    "#short film and small revenue are possible but a budget \n",
    "#under 1000$ should be an error\n",
    "dfr = df.query(\"budget <1000\")\n",
    "dfr.count()\n"
   ]
  },
  {
   "cell_type": "code",
   "execution_count": null,
   "metadata": {},
   "outputs": [],
   "source": [
    "#it's only 56 observations so let's drop them\n",
    "df.drop(df[df['budget'] < 1000].index, inplace = True)"
   ]
  },
  {
   "cell_type": "code",
   "execution_count": null,
   "metadata": {},
   "outputs": [],
   "source": [
    "#the last step is specific is create the feature \"profit\"\n",
    "df[\"profit\"]= df[\"revenue\"] - df[\"budget\"]"
   ]
  },
  {
   "cell_type": "code",
   "execution_count": null,
   "metadata": {},
   "outputs": [],
   "source": [
    "type(\"profit\")"
   ]
  },
  {
   "cell_type": "code",
   "execution_count": null,
   "metadata": {},
   "outputs": [],
   "source": [
    "df.info()"
   ]
  },
  {
   "cell_type": "markdown",
   "metadata": {},
   "source": [
    "<a id='eda'></a>\n",
    "## Exploratory Data Analysis\n",
    "### Wich features are positively correlated with profit?"
   ]
  },
  {
   "cell_type": "code",
   "execution_count": null,
   "metadata": {},
   "outputs": [],
   "source": [
    "#this question is easy to answer it makes to do it first\n",
    "pd.plotting.scatter_matrix(df, figsize = (15,15));"
   ]
  },
  {
   "cell_type": "code",
   "execution_count": null,
   "metadata": {},
   "outputs": [],
   "source": [
    "#vizualy we can direct see that the following features\n",
    "#are corelated with \"profit\":\n",
    "#\"revenue\", \"popularity\", \"vote\", \"year\" and \"budget\""
   ]
  },
  {
   "cell_type": "code",
   "execution_count": null,
   "metadata": {},
   "outputs": [],
   "source": [
    "#let's prove it by calculating the Pearson coefficient\n",
    "#(measure the correlation between 2 variables)\n",
    "a = [\"profit\", \"revenue\", \"popularity\", \"vote\", \"year\",\"budget\"]\n",
    "for i in a:\n",
    "    print(i, \": \", df['profit'].corr(df[i]))\n"
   ]
  },
  {
   "cell_type": "code",
   "execution_count": null,
   "metadata": {
    "scrolled": true
   },
   "outputs": [],
   "source": [
    "#to answer the question we can say that the most positively\n",
    "#correlated features with \"profit\" are:\n",
    "#popularity, budget and vote\n",
    "b = [\"Popularity\", \"Budget\", \"Vote\"]\n",
    "c = [0.5323925588531359,  0.42893559310958795, 0.1744859753046028]\n",
    "plt.title(\"Pearson coefficient between Profit the following features\")\n",
    "plt.bar(b,c);"
   ]
  },
  {
   "cell_type": "markdown",
   "metadata": {},
   "source": [
    "### Is the \"runtime\" on \"profit\" following a normal shape?"
   ]
  },
  {
   "cell_type": "code",
   "execution_count": null,
   "metadata": {
    "scrolled": true
   },
   "outputs": [],
   "source": [
    "#due to the presence of series the runtime can be pretty\n",
    "#long so it makes more sense to limit the X axis\n",
    "plt.scatter(df[\"runtime\"], df[\"profit\"],  \n",
    "            marker=\"o\", color =\"green\")\n",
    "plt.xlim([0,200])\n",
    "plt.title('Runtime on profit')\n",
    "plt.xlabel('Runtime')\n",
    "plt.ylabel('Profit');"
   ]
  },
  {
   "cell_type": "code",
   "execution_count": null,
   "metadata": {},
   "outputs": [],
   "source": [
    "#the answer is yes because the most profitable\n",
    "#movie are concentrated in the middle of the x-axis"
   ]
  },
  {
   "cell_type": "markdown",
   "metadata": {},
   "source": [
    "### What's the best \"runtime\"?\n"
   ]
  },
  {
   "cell_type": "code",
   "execution_count": null,
   "metadata": {},
   "outputs": [],
   "source": [
    "df.head(1)"
   ]
  },
  {
   "cell_type": "code",
   "execution_count": null,
   "metadata": {},
   "outputs": [],
   "source": [
    "#to answer that we must edge and cut runtime\n",
    "#there is too much possibilies\n",
    "df1 = df\n",
    "df1.runtime =df1.runtime.round(-1)\n",
    "df1.head(1)"
   ]
  },
  {
   "cell_type": "code",
   "execution_count": null,
   "metadata": {},
   "outputs": [],
   "source": [
    "a = df.groupby('runtime')['profit'].mean()\n",
    "a.plot();"
   ]
  },
  {
   "cell_type": "code",
   "execution_count": null,
   "metadata": {},
   "outputs": [],
   "source": [
    "#we can see that the movie with the best profit mean\n",
    "#have a runtime of 200mn."
   ]
  },
  {
   "cell_type": "markdown",
   "metadata": {},
   "source": [
    "<a id='conclusions'></a>\n",
    "## Conclusions\n",
    "\n",
    "\n",
    "I tried to answer these questions to the best of my abilities and my knowledge. I spent a lot of time cleaning the data but it was very informative.  \n",
    "To summarize the most correlated (no causality effect) feature is “popularity”. It’s very logical because it directly impacts the number of entries and so the “revenue”. The fact that a bigger “budget” implies a bigger “profit” is particularly interesting. It was also a surprise to discover that the “profit” isn’t increasing over time.  \n",
    "For the second question, the theory that people don't like too short or long movie, seems to be true. \n",
    "With the last question I deepen the subject and come to the conclusion that the movie with a \"runtime\" of 200 have the best mean \"profit\".  \n",
    "If I wanted to deepen the subject I could also answer the following questions:\n",
    "- What \"genre\" has the best \"profit\" in mean?\n",
    "- Is a seasonal factor impacting the profit (\"release_year\")?\n",
    "- Who is the director who makes the most money?\n",
    "\n",
    "With the help of machine learning technics or linear regression, we could try to predict the hypothetical success of a movie based on some features.\n",
    "\n",
    "### Limitations\n",
    "Regarding the limitations, I would like to mention the fact that many features are mechanically correlated with each other. For example, it’s normal that “profit” is correlated with “popularity” because the “profit” is a function of the “revenue” that depends on the “popularity” (numbers of sales). In my opinion that could be a problem for more advanced analysis.  \n",
    "Another limitation is that I can’t prove any causal relation with the tool I used. The same goes for the prediction.  \n",
    "If I tried to do some analyses with the feature “genres” a lot of cleaning would have been needed. I should have tried to split the value with the help of a REGEX function.  \n",
    "Regarding the data, the size is very large so it isn’t a problem (10000 observations) but there were a lot of missing values (0 as value).\n",
    "\n",
    "\n",
    "\n",
    "\n",
    "N/A"
   ]
  },
  {
   "cell_type": "code",
   "execution_count": null,
   "metadata": {},
   "outputs": [],
   "source": []
  }
 ],
 "metadata": {
  "kernelspec": {
   "display_name": "Python 3 (ipykernel)",
   "language": "python",
   "name": "python3"
  },
  "language_info": {
   "codemirror_mode": {
    "name": "ipython",
    "version": 3
   },
   "file_extension": ".py",
   "mimetype": "text/x-python",
   "name": "python",
   "nbconvert_exporter": "python",
   "pygments_lexer": "ipython3",
   "version": "3.9.17"
  }
 },
 "nbformat": 4,
 "nbformat_minor": 2
}
